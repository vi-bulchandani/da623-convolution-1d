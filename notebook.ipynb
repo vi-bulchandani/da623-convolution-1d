{
 "cells": [
  {
   "cell_type": "markdown",
   "metadata": {},
   "source": [
    "# DA623 Tutorial\n",
    "## Topic: Demystifying 1D convolution\n",
    "Submission by: \n",
    "**VISHAL BULCHANDANI(Roll no. 200101108)**\n",
    "\n",
    "B.Tech.(Computer Science and Engineering)\n",
    "\n"
   ]
  },
  {
   "cell_type": "code",
   "execution_count": 13,
   "metadata": {},
   "outputs": [],
   "source": [
    "import numpy as np\n",
    "import scipy\n",
    "import plotly\n",
    "import matplotlib.pyplot\n",
    "import pandas as pd\n"
   ]
  },
  {
   "cell_type": "markdown",
   "metadata": {},
   "source": [
    "# A Probability Problem:\n",
    "To introduce convolution we take a simple problem in probability:\n",
    "We take a balanced die. Probability distribution of the number rolled is as follows:\n",
    "\n",
    "| X    | 1   | 2   | 3   | 4   | 5   | 6   |\n",
    "|------|-----|-----|-----|-----|-----|-----|\n",
    "| p(X) | 1/6 | 1/6 | 1/6 | 1/6 | 1/6 | 1/6 |\n",
    "\n",
    "Now suppose we are rolling 2 dies:\n",
    "\n",
    "We need to find the probability distribution of sum of the results:\n",
    "\n",
    "We can do it via a 2D table:\n",
    "| X | 1    | 2    | 3    | 4    | 5    | 6    |\n",
    "|---|------|------|------|------|------|------|\n",
    "| 1 | 1/36 | 1/36 | 1/36 | 1/36 | 1/36 | 1/36 |\n",
    "| 2 | 1/36 | 1/36 | 1/36 | 1/36 | 1/36 | 1/36 |\n",
    "| 3 | 1/36 | 1/36 | 1/36 | 1/36 | 1/36 | 1/36 |\n",
    "| 4 | 1/36 | 1/36 | 1/36 | 1/36 | 1/36 | 1/36 |\n",
    "| 5 | 1/36 | 1/36 | 1/36 | 1/36 | 1/36 | 1/36 |\n",
    "| 6 | 1/36 | 1/36 | 1/36 | 1/36 | 1/36 | 1/36 |\n",
    "\n",
    "and the distribution is:\n",
    "| X      | 2    | 3    | 4    | 5    | 6    | 7    | 8    | 9    | 10   | 11   | 12   |\n",
    "|--------|------|------|------|------|------|------|------|------|------|------|------|\n",
    "| p(sum) | 1/36 | 2/36 | 3/36 | 4/36 | 5/36 | 6/36 | 5/36 | 4/36 | 3/36 | 2/36 | 1/36 |\n",
    "\n",
    "one of the ways in which this could be generated is:\n",
    "take 2 dices A and B and revert the probability distribution of A:\n",
    "and calculate using a sliding window:\n",
    "\n",
    "| A    | 1    | 2    | 3    | 4    | 5    | 6    |      |      |      |      |      |\n",
    "|------|------|------|------|------|------|------|------|------|------|------|------|\n",
    "| p(A) | 1/36 | 1/36 | 1/36 | 1/36 | 1/36 | 1/36 |      |      |      |      |      |\n",
    "| B    |      |      |      |      |      | 6    | 5    | 4    | 3    | 2    | 1    |\n",
    "| p(B) |      |      |      |      |      | 1/36 | 1/36 | 1/36 | 1/36 | 1/36 | 1/36 |\n",
    "\n",
    "Here we slide the B distribution to the right and multiply the coinciding rows and add the columns to get the probability:\n",
    "$$\n",
    "P(6+6) = \\frac{1}{6} \\times \\frac{1}{6} \n",
    "$$\n",
    "\n",
    "| A    | 1    | 2    | 3    | 4    | 5    | 6    |      |      |      |      |   |\n",
    "|------|------|------|------|------|------|------|------|------|------|------|---|\n",
    "| p(A) | 1/36 | 1/36 | 1/36 | 1/36 | 1/36 | 1/36 |      |      |      |      |   |\n",
    "| B    |      |      |      |      | 6    | 5    | 4    | 3    | 2    | 1    |   |\n",
    "| p(B) |      |      |      |      | 1/36 | 1/36 | 1/36 | 1/36 | 1/36 | 1/36 |   |\n",
    "\n",
    "$$\n",
    "P(5+6) = \\frac{1}{6} \\times \\frac{1}{6}  +  \\frac{1}{6} \\times \\frac{1}{6} = \\frac{2}{36}\n",
    "$$\n",
    "\n",
    "| A    | 1    | 2    | 3    | 4    | 5    | 6    |      |      |      |   |   |\n",
    "|------|------|------|------|------|------|------|------|------|------|---|---|\n",
    "| p(A) | 1/36 | 1/36 | 1/36 | 1/36 | 1/36 | 1/36 |      |      |      |   |   |\n",
    "| B    |      |      |      | 6    | 5    | 4    | 3    | 2    | 1    |   |   |\n",
    "| p(B) |      |      |      | 1/36 | 1/36 | 1/36 | 1/36 | 1/36 | 1/36 |   |   |\n",
    "\n",
    "$$\n",
    "P(10) = \\frac{1}{6} \\times \\frac{1}{6}  +  \\frac{1}{6} \\times \\frac{1}{6} + \\frac{1}{6} \\times \\frac{1}{6}= \\frac{3}{36}\n",
    "$$\n",
    "\n",
    "\n",
    "and so on...\n",
    "to calculate each of the probability.\n",
    "\n",
    "Observe that we here we revert the array of probability and then use it as a sliding window to calculate the results.\n",
    "This operation is observed in many places in mathematics and is called a **convolution**.\n"
   ]
  },
  {
   "cell_type": "markdown",
   "metadata": {},
   "source": [
    "### What is convolution:\n",
    "Take arrays A and B:\n",
    "\n",
    "$$\n",
    "\\begin{split}\n",
    "A & = [a_1,a_2,a_3,\\ldots, a_m] \\\\\n",
    "B & = [b_1,b_2,b_3, \\ldots, b_n]\n",
    "\\end{split}\n",
    "\n",
    "\n",
    "$$\n",
    "Convolution of A and B is defined by taking the reverse of array A and then sliding it across B and calculating the sum of products.\n",
    "\n",
    "$$\n",
    "(A * B)[n] = \\sum_{m=0}^{M-1} A[m] \\cdot B[n - m]\n",
    "\n",
    "$$\n",
    "\n",
    "where $M = N_A+N_B-1$\n",
    "\n"
   ]
  },
  {
   "cell_type": "markdown",
   "metadata": {},
   "source": [
    "In **Python** we have two ways of calculating the convolution of arrays:\n",
    "```\n",
    "1. np.convolve()\n",
    "2. scipy.signals.fftconvolve()"
   ]
  },
  {
   "cell_type": "markdown",
   "metadata": {},
   "source": [
    "Take the previous probability problem with a weighted dice. The probabilities are shown below:\n",
    "\n",
    "| X    | 1   | 2   | 3   | 4   | 5   | 6   |\n",
    "|------|-----|-----|-----|-----|-----|-----|\n",
    "| p(X) | 0.21 | 0.24 | 0.10 | 0.15 | 0.17 | 0.13 |\n",
    "\n",
    "We calculate the probability of sum using both convolution and the normal methods."
   ]
  },
  {
   "cell_type": "code",
   "execution_count": 14,
   "metadata": {},
   "outputs": [
    {
     "name": "stdout",
     "output_type": "stream",
     "text": [
      "     2   0.04410    0.04410\n",
      "     3   0.10080    0.10080\n",
      "     4   0.09960    0.09960\n",
      "     5   0.11100    0.11100\n",
      "     6   0.15340    0.15340\n",
      "     7   0.16620    0.16620\n",
      "     8   0.11890    0.11890\n",
      "     9   0.07700    0.07700\n",
      "    10   0.06790    0.06790\n",
      "    11   0.04420    0.04420\n",
      "    12   0.01690    0.01690\n"
     ]
    }
   ],
   "source": [
    "probs = np.array([0.21,0.24,0.10,0.15,0.17,0.13])\n",
    "\n",
    "dict= {}\n",
    "for i in range(len(probs)):\n",
    "    for j in range(len(probs)):\n",
    "        if (i+j+2) in dict:\n",
    "            dict[i+j+2]+=probs[i]*probs[j]\n",
    "        else:\n",
    "            dict[i+j+2]=probs[i]*probs[j]\n",
    "\n",
    "\n",
    "\n",
    "con=np.convolve(probs, probs)\n",
    "\n",
    "for key, new_prob in zip(dict.keys(), con):\n",
    "    print(f\"{key:-6d}   {dict[key]:.5f}    {new_prob:.5f}\")\n"
   ]
  },
  {
   "cell_type": "markdown",
   "metadata": {},
   "source": [
    "As you can see the convolution function values match the value of the probabilities desired. \n",
    "In general in fact for 2 random variables: $X$ and $Y$\n",
    "if their probability distribution functions are of form $$P(X) , P(Y)$$\n",
    "Then the probability distribution of $X+Y$ is given as:\n",
    "$$\n",
    "P(X+Y) = P(X) * P(Y)\n",
    "$$\n",
    "where * represents convolution."
   ]
  },
  {
   "cell_type": "markdown",
   "metadata": {},
   "source": [
    "Now lets see a simple example of convolution:\n"
   ]
  },
  {
   "cell_type": "code",
   "execution_count": 17,
   "metadata": {},
   "outputs": [
    {
     "name": "stdout",
     "output_type": "stream",
     "text": [
      "[ 3 10 13 10]\n",
      "[ 3. 10. 13. 10.]\n"
     ]
    }
   ],
   "source": [
    "A = [1,2]\n",
    "B= [3,4,5]\n",
    "\n",
    "print(np.convolve(A,B))\n",
    "print(scipy.signal.fftconvolve(A,B))"
   ]
  },
  {
   "cell_type": "markdown",
   "metadata": {},
   "source": [
    "now as we mentioned, there are 2 ways of calculating convolution in Python:\n",
    "\n",
    "1. np.convolve()\n",
    "2. scipy.signal.fftconvolve()\n",
    "\n",
    "Both give identical outputs but there is a difference\n",
    "\n",
    "Let us see the difference between them."
   ]
  },
  {
   "cell_type": "code",
   "execution_count": 23,
   "metadata": {},
   "outputs": [
    {
     "name": "stdout",
     "output_type": "stream",
     "text": [
      "3.72 s ± 174 ms per loop (mean ± std. dev. of 7 runs, 1 loop each)\n",
      "33.2 ms ± 566 µs per loop (mean ± std. dev. of 7 runs, 10 loops each)\n"
     ]
    }
   ],
   "source": [
    "A = np.random.randn(100000)\n",
    "B = np.random.randn(100000)\n",
    "\n",
    "# we time both the functions\n",
    "%timeit np.convolve(A,B)\n",
    "%timeit scipy.signal.fftconvolve(A,B)\n"
   ]
  },
  {
   "cell_type": "markdown",
   "metadata": {},
   "source": [
    "As you can see there is huge difference between the speed of both the functions despite them calculating the same thing. \n",
    "This is because the np.convolve function calculates the convolution by simple elemental multiplication which has a time complexity of $$ O(n^2) $$.\n",
    "WHereas the scipy.signal.fftconvolve uses the Fast Fourier Transform algorithm to calculate the convolution and has a time complexity of: $$ O(n.log(n)) $$"
   ]
  },
  {
   "cell_type": "markdown",
   "metadata": {},
   "source": [
    "### Polynomial Multiplication\n",
    "It is very easy to visualize convolution as a sort of polynomial multiplication.\n",
    "\n",
    "Take example: \n",
    "\n",
    "$$\n",
    "\\begin{split} \n",
    "p(x) &= x+5 \\\\\n",
    "q(x) &= x^2+5x+6 \\\\\n",
    "p(x)q(x) &= (x+5) (x^2+5x+6) \\\\\n",
    "&= x^3 + 10x^2 + 31x +30\n",
    "\\end{split}\n",
    "$$\n",
    "\n",
    "observe that \n",
    "A=[1,5]\n",
    "B=[1,5,6]\n",
    "\n",
    "then np.convolve(A,B) gives us the coefficients of the polynomial multiplication. \n",
    "This is used in the fftconvolve function to calculate the convolution via calculating the polynomial product through DFT."
   ]
  },
  {
   "cell_type": "code",
   "execution_count": 24,
   "metadata": {},
   "outputs": [
    {
     "name": "stdout",
     "output_type": "stream",
     "text": [
      "[ 1 10 31 30]\n"
     ]
    }
   ],
   "source": [
    "A=[1,5]\n",
    "B=[1,5,6]\n",
    "print(np.convolve(A,B))"
   ]
  },
  {
   "cell_type": "markdown",
   "metadata": {},
   "source": []
  }
 ],
 "metadata": {
  "kernelspec": {
   "display_name": "da623-convolution-1d-fwXfodwy-py3.11",
   "language": "python",
   "name": "python3"
  },
  "language_info": {
   "codemirror_mode": {
    "name": "ipython",
    "version": 3
   },
   "file_extension": ".py",
   "mimetype": "text/x-python",
   "name": "python",
   "nbconvert_exporter": "python",
   "pygments_lexer": "ipython3",
   "version": "3.11.8"
  }
 },
 "nbformat": 4,
 "nbformat_minor": 2
}
