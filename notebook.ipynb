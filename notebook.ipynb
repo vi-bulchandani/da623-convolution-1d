{
 "cells": [
  {
   "cell_type": "markdown",
   "metadata": {},
   "source": [
    "# DA623 Tutorial\n",
    "## Topic: Demystifying 1D convolution\n",
    "Submission by: \n",
    "**VISHAL BULCHANDANI(Roll no. 200101108)**\n",
    "\n",
    "B.Tech.(Computer Science and Engineering)\n",
    "\n"
   ]
  },
  {
   "cell_type": "code",
   "execution_count": 72,
   "metadata": {},
   "outputs": [],
   "source": [
    "import numpy as np\n",
    "import scipy\n",
    "import plotly\n",
    "import matplotlib.pyplot as plt\n",
    "import pandas as pd\n",
    "import IPython.display as display\n",
    "from ipywidgets import interact, interactive, fixed, interact_manual\n",
    "import ipywidgets as widgets\n"
   ]
  },
  {
   "cell_type": "markdown",
   "metadata": {},
   "source": [
    "# A Probability Problem:\n",
    "To introduce convolution we take a simple problem in probability:\n",
    "We take a balanced die. Probability distribution of the number rolled is as follows:\n",
    "\n",
    "| X    | 1   | 2   | 3   | 4   | 5   | 6   |\n",
    "|------|-----|-----|-----|-----|-----|-----|\n",
    "| p(X) | 1/6 | 1/6 | 1/6 | 1/6 | 1/6 | 1/6 |\n",
    "\n",
    "Now suppose we are rolling 2 dies:\n",
    "\n",
    "We need to find the probability distribution of sum of the results:\n",
    "\n",
    "We can do it via a 2D table:\n",
    "| X | 1    | 2    | 3    | 4    | 5    | 6    |\n",
    "|---|------|------|------|------|------|------|\n",
    "| 1 | 1/36 | 1/36 | 1/36 | 1/36 | 1/36 | 1/36 |\n",
    "| 2 | 1/36 | 1/36 | 1/36 | 1/36 | 1/36 | 1/36 |\n",
    "| 3 | 1/36 | 1/36 | 1/36 | 1/36 | 1/36 | 1/36 |\n",
    "| 4 | 1/36 | 1/36 | 1/36 | 1/36 | 1/36 | 1/36 |\n",
    "| 5 | 1/36 | 1/36 | 1/36 | 1/36 | 1/36 | 1/36 |\n",
    "| 6 | 1/36 | 1/36 | 1/36 | 1/36 | 1/36 | 1/36 |\n",
    "\n",
    "and the distribution is:\n",
    "| X      | 2    | 3    | 4    | 5    | 6    | 7    | 8    | 9    | 10   | 11   | 12   |\n",
    "|--------|------|------|------|------|------|------|------|------|------|------|------|\n",
    "| p(sum) | 1/36 | 2/36 | 3/36 | 4/36 | 5/36 | 6/36 | 5/36 | 4/36 | 3/36 | 2/36 | 1/36 |\n",
    "\n",
    "one of the ways in which this could be generated is:\n",
    "take 2 dices A and B and revert the probability distribution of A:\n",
    "and calculate using a sliding window:\n",
    "\n",
    "| A    | 1    | 2    | 3    | 4    | 5    | 6    |      |      |      |      |      |\n",
    "|------|------|------|------|------|------|------|------|------|------|------|------|\n",
    "| p(A) | 1/36 | 1/36 | 1/36 | 1/36 | 1/36 | 1/36 |      |      |      |      |      |\n",
    "| B    |      |      |      |      |      | 6    | 5    | 4    | 3    | 2    | 1    |\n",
    "| p(B) |      |      |      |      |      | 1/36 | 1/36 | 1/36 | 1/36 | 1/36 | 1/36 |\n",
    "\n",
    "Here we slide the B distribution to the right and multiply the coinciding rows and add the columns to get the probability:\n",
    "$$\n",
    "P(6+6) = \\frac{1}{6} \\times \\frac{1}{6} \n",
    "$$\n",
    "\n",
    "| A    | 1    | 2    | 3    | 4    | 5    | 6    |      |      |      |      |   |\n",
    "|------|------|------|------|------|------|------|------|------|------|------|---|\n",
    "| p(A) | 1/36 | 1/36 | 1/36 | 1/36 | 1/36 | 1/36 |      |      |      |      |   |\n",
    "| B    |      |      |      |      | 6    | 5    | 4    | 3    | 2    | 1    |   |\n",
    "| p(B) |      |      |      |      | 1/36 | 1/36 | 1/36 | 1/36 | 1/36 | 1/36 |   |\n",
    "\n",
    "$$\n",
    "P(5+6) = \\frac{1}{6} \\times \\frac{1}{6}  +  \\frac{1}{6} \\times \\frac{1}{6} = \\frac{2}{36}\n",
    "$$\n",
    "\n",
    "| A    | 1    | 2    | 3    | 4    | 5    | 6    |      |      |      |   |   |\n",
    "|------|------|------|------|------|------|------|------|------|------|---|---|\n",
    "| p(A) | 1/36 | 1/36 | 1/36 | 1/36 | 1/36 | 1/36 |      |      |      |   |   |\n",
    "| B    |      |      |      | 6    | 5    | 4    | 3    | 2    | 1    |   |   |\n",
    "| p(B) |      |      |      | 1/36 | 1/36 | 1/36 | 1/36 | 1/36 | 1/36 |   |   |\n",
    "\n",
    "$$\n",
    "P(10) = \\frac{1}{6} \\times \\frac{1}{6}  +  \\frac{1}{6} \\times \\frac{1}{6} + \\frac{1}{6} \\times \\frac{1}{6}= \\frac{3}{36}\n",
    "$$\n",
    "\n",
    "\n",
    "and so on...\n",
    "to calculate each of the probability.\n",
    "\n",
    "Observe that we here we revert the array of probability and then use it as a sliding window to calculate the results.\n",
    "This operation is observed in many places in mathematics and is called a **convolution**.\n"
   ]
  },
  {
   "cell_type": "markdown",
   "metadata": {},
   "source": [
    "### What is convolution:\n",
    "Take arrays A and B:\n",
    "\n",
    "$$\n",
    "\\begin{split}\n",
    "A & = [a_1,a_2,a_3,\\ldots, a_m] \\\\\n",
    "B & = [b_1,b_2,b_3, \\ldots, b_n]\n",
    "\\end{split}\n",
    "\n",
    "\n",
    "$$\n",
    "Convolution of A and B is defined by taking the reverse of array A and then sliding it across B and calculating the sum of products.\n",
    "\n",
    "$$\n",
    "(A * B)[n] = \\sum_{m=0}^{M-1} A[m] \\cdot B[n - m]\n",
    "\n",
    "$$\n",
    "\n",
    "where $M = N_A+N_B-1$\n",
    "\n"
   ]
  },
  {
   "cell_type": "markdown",
   "metadata": {},
   "source": [
    "In **Python** we have two ways of calculating the convolution of arrays:\n",
    "```\n",
    "1. np.convolve()\n",
    "2. scipy.signals.fftconvolve()"
   ]
  },
  {
   "cell_type": "markdown",
   "metadata": {},
   "source": [
    "Take the previous probability problem with a weighted dice. The probabilities are shown below:\n",
    "\n",
    "| X    | 1   | 2   | 3   | 4   | 5   | 6   |\n",
    "|------|-----|-----|-----|-----|-----|-----|\n",
    "| p(X) | 0.21 | 0.24 | 0.10 | 0.15 | 0.17 | 0.13 |\n",
    "\n",
    "We calculate the probability of sum using both convolution and the normal methods."
   ]
  },
  {
   "cell_type": "code",
   "execution_count": 34,
   "metadata": {},
   "outputs": [
    {
     "name": "stdout",
     "output_type": "stream",
     "text": [
      "     2   0.04410    0.04410\n",
      "     3   0.10080    0.10080\n",
      "     4   0.09960    0.09960\n",
      "     5   0.11100    0.11100\n",
      "     6   0.15340    0.15340\n",
      "     7   0.16620    0.16620\n",
      "     8   0.11890    0.11890\n",
      "     9   0.07700    0.07700\n",
      "    10   0.06790    0.06790\n",
      "    11   0.04420    0.04420\n",
      "    12   0.01690    0.01690\n"
     ]
    }
   ],
   "source": [
    "probs = np.array([0.21,0.24,0.10,0.15,0.17,0.13])\n",
    "\n",
    "dict= {}\n",
    "for i in range(len(probs)):\n",
    "    for j in range(len(probs)):\n",
    "        if (i+j+2) in dict:\n",
    "            dict[i+j+2]+=probs[i]*probs[j]\n",
    "        else:\n",
    "            dict[i+j+2]=probs[i]*probs[j]\n",
    "\n",
    "\n",
    "\n",
    "con=np.convolve(probs, probs)\n",
    "\n",
    "for key, new_prob in zip(dict.keys(), con):\n",
    "    print(f\"{key:-6d}   {dict[key]:.5f}    {new_prob:.5f}\")\n"
   ]
  },
  {
   "cell_type": "markdown",
   "metadata": {},
   "source": [
    "As you can see the convolution function values match the value of the probabilities desired. \n",
    "In general in fact for 2 random variables: $X$ and $Y$\n",
    "if their probability distribution functions are of form $$P(X) , P(Y)$$\n",
    "Then the probability distribution of $X+Y$ is given as:\n",
    "$$\n",
    "P(X+Y) = P(X) * P(Y)\n",
    "$$\n",
    "where * represents convolution."
   ]
  },
  {
   "cell_type": "markdown",
   "metadata": {},
   "source": [
    "Now lets see a simple example of convolution:\n"
   ]
  },
  {
   "cell_type": "code",
   "execution_count": 35,
   "metadata": {},
   "outputs": [
    {
     "name": "stdout",
     "output_type": "stream",
     "text": [
      "[ 3 10 13 10]\n",
      "[ 3. 10. 13. 10.]\n"
     ]
    }
   ],
   "source": [
    "A = [1,2]\n",
    "B= [3,4,5]\n",
    "\n",
    "print(np.convolve(A,B))\n",
    "print(scipy.signal.fftconvolve(A,B))"
   ]
  },
  {
   "cell_type": "markdown",
   "metadata": {},
   "source": [
    "now as we mentioned, there are 2 ways of calculating convolution in Python:\n",
    "\n",
    "1. np.convolve()\n",
    "2. scipy.signal.fftconvolve()\n",
    "\n",
    "Both give identical outputs but there is a difference\n",
    "\n",
    "Let us see the difference between them."
   ]
  },
  {
   "cell_type": "code",
   "execution_count": 41,
   "metadata": {},
   "outputs": [
    {
     "name": "stdout",
     "output_type": "stream",
     "text": [
      "37.1 ms ± 151 µs per loop (mean ± std. dev. of 7 runs, 10 loops each)\n",
      "1.26 ms ± 14 µs per loop (mean ± std. dev. of 7 runs, 1,000 loops each)\n"
     ]
    }
   ],
   "source": [
    "A = np.random.randn(10000)\n",
    "B = np.random.randn(10000)\n",
    "\n",
    "# we time both the functions\n",
    "%timeit np.convolve(A,B)\n",
    "%timeit scipy.signal.fftconvolve(A,B)\n"
   ]
  },
  {
   "cell_type": "markdown",
   "metadata": {},
   "source": [
    "As you can see there is huge difference between the speed of both the functions despite them calculating the same thing. \n",
    "This is because the np.convolve function calculates the convolution by simple elemental multiplication which has a time complexity of $$ O(n^2) $$.\n",
    "WHereas the scipy.signal.fftconvolve uses the Fast Fourier Transform algorithm to calculate the convolution and has a time complexity of: $$ O(n.log(n)) $$"
   ]
  },
  {
   "cell_type": "markdown",
   "metadata": {},
   "source": [
    "### Polynomial Multiplication\n",
    "It is very easy to visualize convolution as a sort of polynomial multiplication.\n",
    "\n",
    "Take example: \n",
    "\n",
    "$$\n",
    "\\begin{split} \n",
    "p(x) &= x+5 \\\\\n",
    "q(x) &= x^2+5x+6 \\\\\n",
    "p(x)q(x) &= (x+5) (x^2+5x+6) \\\\\n",
    "&= x^3 + 10x^2 + 31x +30\n",
    "\\end{split}\n",
    "$$\n",
    "\n",
    "observe that \n",
    "A=[1,5]\n",
    "B=[1,5,6]\n",
    "\n",
    "then np.convolve(A,B) gives us the coefficients of the polynomial multiplication. \n",
    "This is used in the fftconvolve function to calculate the convolution via calculating the polynomial product through DFT."
   ]
  },
  {
   "cell_type": "code",
   "execution_count": 37,
   "metadata": {},
   "outputs": [
    {
     "name": "stdout",
     "output_type": "stream",
     "text": [
      "[ 1 10 31 30]\n"
     ]
    }
   ],
   "source": [
    "A=[1,5]\n",
    "B=[1,5,6]\n",
    "print(np.convolve(A,B))"
   ]
  },
  {
   "cell_type": "markdown",
   "metadata": {},
   "source": [
    "### Convolution of functions:\n",
    "Convolution of continuous functions $f_1(t)$ and $f_2(t)$ is defined as:\n",
    "$$\n",
    "(f_1*f_2)(t) = \\int_{-\\infty}^{\\infty}f_1(\\tau)f_2(t-\\tau)d\\tau.\n",
    "$$\n",
    "\n",
    "Below f1 is the triangle function and f2 is the exponential function in the postive +x axis"
   ]
  },
  {
   "cell_type": "code",
   "execution_count": 38,
   "metadata": {},
   "outputs": [],
   "source": [
    "f1 = lambda t: np.maximum(0, 1-abs(t))\n",
    "f2 = lambda t: (t>0) * np.exp(-2*t)"
   ]
  },
  {
   "cell_type": "code",
   "execution_count": 39,
   "metadata": {},
   "outputs": [],
   "source": [
    "Fs = 50  # our sampling frequency for the plotting\n",
    "T = 5    # the time range we are interested in\n",
    "t = np.arange(-T, T, 1/Fs)  # the time samples"
   ]
  },
  {
   "cell_type": "code",
   "execution_count": 43,
   "metadata": {},
   "outputs": [
    {
     "data": {
      "text/plain": [
       "<matplotlib.legend.Legend at 0x7f608853c810>"
      ]
     },
     "execution_count": 43,
     "metadata": {},
     "output_type": "execute_result"
    },
    {
     "data": {
      "image/png": "[encoded data removed]",
      "text/plain": [
       "<Figure size 640x480 with 1 Axes>"
      ]
     },
     "metadata": {},
     "output_type": "display_data"
    }
   ],
   "source": [
    "plt.plot(t, f1(t), label='$f_1(t)$')\n",
    "plt.plot(t, f2(t), label='$f_2(t)$')\n",
    "plt.legend()"
   ]
  },
  {
   "cell_type": "code",
   "execution_count": 74,
   "metadata": {},
   "outputs": [
    {
     "data": {
      "application/vnd.jupyter.widget-view+json": {
       "model_id": "683e9853dfa5494ca05271be9da35d6f",
       "version_major": 2,
       "version_minor": 0
      },
      "text/plain": [
       "interactive(children=(FloatSlider(value=5.0, continuous_update=False, description='Test:', max=5.0, min=-5.0, …"
      ]
     },
     "metadata": {},
     "output_type": "display_data"
    }
   ],
   "source": [
    "\n",
    "\n",
    "def print_convolution_point(t0,f2,f1):\n",
    "    t0 = 1\n",
    "    flipped = lambda tau: f2(t0-tau)\n",
    "    product = lambda tau: f1(tau)*f2(t0-tau)\n",
    "    plt.figure(figsize=(8,3))\n",
    "    plt.plot(t, f1(t), label=r'$f_1(\\tau)$')\n",
    "    plt.plot(t, flipped(t), label=r'$f_2(t_0-\\tau)$')\n",
    "    plt.plot(t, product(t), label=r'$f_1(\\tau)f_2(t_0-\\tau)$',color='red')\n",
    "    plt.fill_between(t,product(t),color='#ff000070')\n",
    "    plt.legend()\n",
    "    # Explicitely calculate the integral, using the Simpson integration rule\n",
    "    display.display(display.HTML(f\"Result of the convolution (red shaded area):  {scipy.integrate.simpson(product(t), x=t):.3f}\" ))\n",
    "\n",
    "interact(print_convolution_point,t0=widgets.FloatSlider(value=7.5,\n",
    "    min=-5,\n",
    "    max=5.0,\n",
    "    step=0.05,\n",
    "    description='Test:',\n",
    "    disabled=False,\n",
    "    continuous_update=False,\n",
    "    orientation='horizontal',\n",
    "    readout=True,\n",
    "    readout_format='.1f',\n",
    "), f1=fixed(f1), f2=fixed(f2));\n"
   ]
  },
  {
   "cell_type": "code",
   "execution_count": 69,
   "metadata": {},
   "outputs": [],
   "source": [
    "\n",
    "def showConvolution(f1, f2, t0):\n",
    "    # Calculate the overall convolution result using Simpson integration\n",
    "    convolution = np.zeros(len(t))\n",
    "    for n, t_ in enumerate(t):\n",
    "        prod = lambda tau: f1(tau) * f2(t_-tau)\n",
    "        convolution[n] = scipy.integrate.simps(prod(t), t)\n",
    "    \n",
    "    # Create the shifted and flipped function\n",
    "    f_shift = lambda t: f2(t0-t)\n",
    "    prod = lambda tau: f1(tau) * f2(t0-tau)\n",
    "\n",
    "    # Plot the curves\n",
    "    \n",
    "    plt.subplot(211)\n",
    "    plt.plot(t, f1(t), label=r'$f_1(\\tau)$')\n",
    "    plt.plot(t, f_shift(t), label=r'$f_2(t_0-\\tau)$')\n",
    "    plt.plot(t, prod(t), 'r-', label=r'$f_1(\\tau)f_2(t_0-\\tau)$')\n",
    "    \n",
    "    # plot the convolution curve\n",
    "    plt.subplot(212)\n",
    "    plt.plot(t, convolution, label='$(f_1*f_2)(t)$')\n",
    "    \n",
    "    # recalculate the value of the convolution integral at the current time-shift t0\n",
    "    current_value = scipy.integrate.simps(prod(t), t)\n",
    "    plt.plot(t0, current_value, 'ro')  # plot the point"
   ]
  },
  {
   "cell_type": "code",
   "execution_count": null,
   "metadata": {},
   "outputs": [],
   "source": []
  }
 ],
 "metadata": {
  "kernelspec": {
   "display_name": "da623-convolution-1d-fwXfodwy-py3.11",
   "language": "python",
   "name": "python3"
  },
  "language_info": {
   "codemirror_mode": {
    "name": "ipython",
    "version": 3
   },
   "file_extension": ".py",
   "mimetype": "text/x-python",
   "name": "python",
   "nbconvert_exporter": "python",
   "pygments_lexer": "ipython3",
   "version": "3.11.8"
  }
 },
 "nbformat": 4,
 "nbformat_minor": 2
}
